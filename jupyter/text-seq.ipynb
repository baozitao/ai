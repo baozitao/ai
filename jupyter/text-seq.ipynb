{
 "cells": [
  {
   "cell_type": "code",
   "execution_count": 1,
   "id": "41364075-c239-4e74-ab52-e6b7ad9309e2",
   "metadata": {},
   "outputs": [
    {
     "name": "stderr",
     "output_type": "stream",
     "text": [
      "2023-07-03 00:50:02.884194: I tensorflow/core/util/port.cc:110] oneDNN custom operations are on. You may see slightly different numerical results due to floating-point round-off errors from different computation orders. To turn them off, set the environment variable `TF_ENABLE_ONEDNN_OPTS=0`.\n",
      "2023-07-03 00:50:02.886001: I tensorflow/tsl/cuda/cudart_stub.cc:28] Could not find cuda drivers on your machine, GPU will not be used.\n",
      "2023-07-03 00:50:02.918348: I tensorflow/tsl/cuda/cudart_stub.cc:28] Could not find cuda drivers on your machine, GPU will not be used.\n",
      "2023-07-03 00:50:02.918822: I tensorflow/core/platform/cpu_feature_guard.cc:182] This TensorFlow binary is optimized to use available CPU instructions in performance-critical operations.\n",
      "To enable the following instructions: AVX2 AVX_VNNI FMA, in other operations, rebuild TensorFlow with the appropriate compiler flags.\n",
      "2023-07-03 00:50:03.419627: W tensorflow/compiler/tf2tensorrt/utils/py_utils.cc:38] TF-TRT Warning: Could not find TensorRT\n"
     ]
    }
   ],
   "source": [
    "from keras.datasets import imdb\n",
    "from keras.layers import preprocessing \n",
    "from keras_preprocessing import sequence\n",
    "max_features = 10000 \n",
    "maxlen = 20 \n",
    "(x_train, y_train), (x_test, y_test) = imdb.load_data(\n",
    " num_words=max_features) \n",
    "x_train = sequence.pad_sequences(x_train, maxlen=maxlen) \n",
    "x_test = sequence.pad_sequences(x_test, maxlen=maxlen)"
   ]
  },
  {
   "cell_type": "code",
   "execution_count": 2,
   "id": "dbd205d9-0e33-4a11-b051-e0f13b02c1a9",
   "metadata": {},
   "outputs": [
    {
     "name": "stdout",
     "output_type": "stream",
     "text": [
      "Model: \"sequential\"\n",
      "_________________________________________________________________\n",
      " Layer (type)                Output Shape              Param #   \n",
      "=================================================================\n",
      " embedding (Embedding)       (None, 20, 8)             80000     \n",
      "                                                                 \n",
      " flatten (Flatten)           (None, 160)               0         \n",
      "                                                                 \n",
      " dense (Dense)               (None, 1)                 161       \n",
      "                                                                 \n",
      "=================================================================\n",
      "Total params: 80,161\n",
      "Trainable params: 80,161\n",
      "Non-trainable params: 0\n",
      "_________________________________________________________________\n"
     ]
    }
   ],
   "source": [
    "from keras.models import Sequential \n",
    "from keras.layers import Flatten, Dense, Embedding \n",
    "model = Sequential()\n",
    "model.add(Embedding(10000, 8, input_length=maxlen)) \n",
    "model.add(Flatten()) \n",
    "model.add(Dense(1, activation='sigmoid')) \n",
    "model.compile(optimizer='rmsprop', loss='binary_crossentropy', metrics=['acc']) \n",
    "model.summary() "
   ]
  },
  {
   "cell_type": "code",
   "execution_count": 4,
   "id": "d158374b-ee3c-49d5-8873-dc9bc289e938",
   "metadata": {},
   "outputs": [
    {
     "name": "stdout",
     "output_type": "stream",
     "text": [
      "Epoch 1/10\n",
      "  1/625 [..............................] - ETA: 2s - loss: 0.4597 - acc: 0.8125"
     ]
    },
    {
     "name": "stdout",
     "output_type": "stream",
     "text": [
      "625/625 [==============================] - 1s 1ms/step - loss: 0.3055 - acc: 0.8730 - val_loss: 0.5324 - val_acc: 0.7496\n",
      "Epoch 2/10\n",
      "625/625 [==============================] - 1s 1ms/step - loss: 0.2896 - acc: 0.8810 - val_loss: 0.5390 - val_acc: 0.7460\n",
      "Epoch 3/10\n",
      "625/625 [==============================] - 1s 1ms/step - loss: 0.2736 - acc: 0.8884 - val_loss: 0.5485 - val_acc: 0.7446\n",
      "Epoch 4/10\n",
      "625/625 [==============================] - 1s 1ms/step - loss: 0.2576 - acc: 0.8967 - val_loss: 0.5578 - val_acc: 0.7424\n",
      "Epoch 5/10\n",
      "625/625 [==============================] - 1s 1ms/step - loss: 0.2424 - acc: 0.9042 - val_loss: 0.5688 - val_acc: 0.7384\n",
      "Epoch 6/10\n",
      "625/625 [==============================] - 1s 1ms/step - loss: 0.2280 - acc: 0.9122 - val_loss: 0.5817 - val_acc: 0.7360\n",
      "Epoch 7/10\n",
      "625/625 [==============================] - 1s 1ms/step - loss: 0.2140 - acc: 0.9199 - val_loss: 0.5948 - val_acc: 0.7322\n",
      "Epoch 8/10\n",
      "625/625 [==============================] - 1s 1ms/step - loss: 0.2008 - acc: 0.9261 - val_loss: 0.6085 - val_acc: 0.7288\n",
      "Epoch 9/10\n",
      "625/625 [==============================] - 1s 1ms/step - loss: 0.1884 - acc: 0.9328 - val_loss: 0.6221 - val_acc: 0.7248\n",
      "Epoch 10/10\n",
      "625/625 [==============================] - 1s 1ms/step - loss: 0.1766 - acc: 0.9378 - val_loss: 0.6365 - val_acc: 0.7268\n"
     ]
    }
   ],
   "source": [
    "history = model.fit(x_train, y_train, \n",
    " epochs=10,\n",
    " batch_size=32, \n",
    " validation_split=0.2)"
   ]
  },
  {
   "cell_type": "code",
   "execution_count": null,
   "id": "0b9f0c82",
   "metadata": {},
   "outputs": [],
   "source": []
  },
  {
   "cell_type": "code",
   "execution_count": null,
   "id": "343f26e3-5423-4edf-9c92-cf4674cd33e9",
   "metadata": {},
   "outputs": [],
   "source": []
  }
 ],
 "metadata": {
  "kernelspec": {
   "display_name": "Python 3 (ipykernel)",
   "language": "python",
   "name": "python3"
  },
  "language_info": {
   "codemirror_mode": {
    "name": "ipython",
    "version": 3
   },
   "file_extension": ".py",
   "mimetype": "text/x-python",
   "name": "python",
   "nbconvert_exporter": "python",
   "pygments_lexer": "ipython3",
   "version": "3.9.16"
  }
 },
 "nbformat": 4,
 "nbformat_minor": 5
}
