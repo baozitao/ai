{
 "cells": [
  {
   "cell_type": "code",
   "execution_count": 1,
   "id": "c39265d1-a4f7-43d8-b28e-223979f86826",
   "metadata": {},
   "outputs": [
    {
     "name": "stderr",
     "output_type": "stream",
     "text": [
      "2023-07-03 00:48:04.207880: I tensorflow/core/util/port.cc:110] oneDNN custom operations are on. You may see slightly different numerical results due to floating-point round-off errors from different computation orders. To turn them off, set the environment variable `TF_ENABLE_ONEDNN_OPTS=0`.\n",
      "2023-07-03 00:48:04.209095: I tensorflow/tsl/cuda/cudart_stub.cc:28] Could not find cuda drivers on your machine, GPU will not be used.\n",
      "2023-07-03 00:48:04.234655: I tensorflow/tsl/cuda/cudart_stub.cc:28] Could not find cuda drivers on your machine, GPU will not be used.\n",
      "2023-07-03 00:48:04.235101: I tensorflow/core/platform/cpu_feature_guard.cc:182] This TensorFlow binary is optimized to use available CPU instructions in performance-critical operations.\n",
      "To enable the following instructions: AVX2 AVX_VNNI FMA, in other operations, rebuild TensorFlow with the appropriate compiler flags.\n",
      "2023-07-03 00:48:04.739633: W tensorflow/compiler/tf2tensorrt/utils/py_utils.cc:38] TF-TRT Warning: Could not find TensorRT\n"
     ]
    }
   ],
   "source": [
    "from keras.datasets import reuters \n",
    "(train_data, train_labels), (test_data, test_labels) = reuters.load_data( num_words=10000)"
   ]
  },
  {
   "cell_type": "code",
   "execution_count": 2,
   "id": "ef7cfd4e-4cf3-41b4-8328-4169ccc07409",
   "metadata": {},
   "outputs": [],
   "source": [
    "import numpy as np \n",
    "def vectorize_sequences(sequences, dimension=10000):\n",
    "     results = np.zeros((len(sequences), dimension))\n",
    "     for i, sequence in enumerate(sequences):\n",
    "         results[i, sequence] = 1.\n",
    "     return results \n",
    "\n",
    "##### 将训练数据向量化\n",
    "x_train = vectorize_sequences(train_data) \n",
    "x_test = vectorize_sequences(test_data) \n",
    "\n",
    "##### one-hot编码\n",
    "from keras.utils.np_utils import to_categorical \n",
    "one_hot_train_labels = to_categorical(train_labels)\n",
    "one_hot_test_labels = to_categorical(test_labels)\n",
    "\n",
    "##### 将训练数据分为输入数据和验证数据\n",
    "x_val = x_train[:1000]\n",
    "partial_x_train = x_train[1000:] \n",
    "y_val = one_hot_train_labels[:1000]\n",
    "partial_y_train = one_hot_train_labels[1000:]"
   ]
  },
  {
   "cell_type": "code",
   "execution_count": 3,
   "id": "60ebf628-8bc1-4204-9a7f-f59f065e01f5",
   "metadata": {},
   "outputs": [
    {
     "name": "stdout",
     "output_type": "stream",
     "text": [
      "Epoch 1/30\n",
      "16/16 [==============================] - 0s 14ms/step - loss: 3.1451 - accuracy: 0.3971 - val_loss: 2.5581 - val_accuracy: 0.5800\n",
      "Epoch 2/30\n",
      "16/16 [==============================] - 0s 6ms/step - loss: 2.2028 - accuracy: 0.6505 - val_loss: 1.9419 - val_accuracy: 0.6630\n",
      "Epoch 3/30\n",
      "16/16 [==============================] - 0s 6ms/step - loss: 1.7011 - accuracy: 0.6954 - val_loss: 1.5973 - val_accuracy: 0.6860\n",
      "Epoch 4/30\n",
      "16/16 [==============================] - 0s 7ms/step - loss: 1.4006 - accuracy: 0.7207 - val_loss: 1.3914 - val_accuracy: 0.7010\n",
      "Epoch 5/30\n",
      "16/16 [==============================] - 0s 8ms/step - loss: 1.2012 - accuracy: 0.7486 - val_loss: 1.2549 - val_accuracy: 0.7310\n",
      "Epoch 6/30\n",
      "16/16 [==============================] - 0s 6ms/step - loss: 1.0568 - accuracy: 0.7715 - val_loss: 1.1638 - val_accuracy: 0.7450\n",
      "Epoch 7/30\n",
      "16/16 [==============================] - 0s 7ms/step - loss: 0.9439 - accuracy: 0.7959 - val_loss: 1.0955 - val_accuracy: 0.7620\n",
      "Epoch 8/30\n",
      "16/16 [==============================] - 0s 6ms/step - loss: 0.8515 - accuracy: 0.8165 - val_loss: 1.0480 - val_accuracy: 0.7720\n",
      "Epoch 9/30\n",
      "16/16 [==============================] - 0s 7ms/step - loss: 0.7726 - accuracy: 0.8348 - val_loss: 1.0086 - val_accuracy: 0.7910\n",
      "Epoch 10/30\n",
      "16/16 [==============================] - 0s 6ms/step - loss: 0.7026 - accuracy: 0.8510 - val_loss: 0.9869 - val_accuracy: 0.7800\n",
      "Epoch 11/30\n",
      "16/16 [==============================] - 0s 6ms/step - loss: 0.6415 - accuracy: 0.8657 - val_loss: 0.9436 - val_accuracy: 0.7990\n",
      "Epoch 12/30\n",
      "16/16 [==============================] - 0s 6ms/step - loss: 0.5863 - accuracy: 0.8767 - val_loss: 0.9198 - val_accuracy: 0.7980\n",
      "Epoch 13/30\n",
      "16/16 [==============================] - 0s 6ms/step - loss: 0.5368 - accuracy: 0.8898 - val_loss: 0.9022 - val_accuracy: 0.8070\n",
      "Epoch 14/30\n",
      "16/16 [==============================] - 0s 7ms/step - loss: 0.4920 - accuracy: 0.8989 - val_loss: 0.8911 - val_accuracy: 0.8010\n",
      "Epoch 15/30\n",
      "16/16 [==============================] - 0s 7ms/step - loss: 0.4524 - accuracy: 0.9083 - val_loss: 0.8678 - val_accuracy: 0.8100\n",
      "Epoch 16/30\n",
      "16/16 [==============================] - 0s 7ms/step - loss: 0.4154 - accuracy: 0.9174 - val_loss: 0.8675 - val_accuracy: 0.8060\n",
      "Epoch 17/30\n",
      "16/16 [==============================] - 0s 6ms/step - loss: 0.3844 - accuracy: 0.9214 - val_loss: 0.8526 - val_accuracy: 0.8140\n",
      "Epoch 18/30\n",
      "16/16 [==============================] - 0s 6ms/step - loss: 0.3546 - accuracy: 0.9283 - val_loss: 0.8463 - val_accuracy: 0.8170\n",
      "Epoch 19/30\n",
      "16/16 [==============================] - 0s 7ms/step - loss: 0.3282 - accuracy: 0.9317 - val_loss: 0.8370 - val_accuracy: 0.8140\n",
      "Epoch 20/30\n",
      "16/16 [==============================] - 0s 7ms/step - loss: 0.3053 - accuracy: 0.9367 - val_loss: 0.8355 - val_accuracy: 0.8220\n",
      "Epoch 21/30\n",
      "16/16 [==============================] - 0s 6ms/step - loss: 0.2843 - accuracy: 0.9389 - val_loss: 0.8325 - val_accuracy: 0.8210\n",
      "Epoch 22/30\n",
      "16/16 [==============================] - 0s 7ms/step - loss: 0.2652 - accuracy: 0.9412 - val_loss: 0.8332 - val_accuracy: 0.8220\n",
      "Epoch 23/30\n",
      "16/16 [==============================] - 0s 7ms/step - loss: 0.2479 - accuracy: 0.9448 - val_loss: 0.8292 - val_accuracy: 0.8240\n",
      "Epoch 24/30\n",
      "16/16 [==============================] - 0s 6ms/step - loss: 0.2325 - accuracy: 0.9475 - val_loss: 0.8310 - val_accuracy: 0.8190\n",
      "Epoch 25/30\n",
      "16/16 [==============================] - 0s 6ms/step - loss: 0.2191 - accuracy: 0.9490 - val_loss: 0.8281 - val_accuracy: 0.8220\n",
      "Epoch 26/30\n",
      "16/16 [==============================] - 0s 7ms/step - loss: 0.2068 - accuracy: 0.9506 - val_loss: 0.8312 - val_accuracy: 0.8280\n",
      "Epoch 27/30\n",
      "16/16 [==============================] - 0s 6ms/step - loss: 0.1956 - accuracy: 0.9524 - val_loss: 0.8360 - val_accuracy: 0.8220\n",
      "Epoch 28/30\n",
      "16/16 [==============================] - 0s 6ms/step - loss: 0.1854 - accuracy: 0.9526 - val_loss: 0.8389 - val_accuracy: 0.8240\n",
      "Epoch 29/30\n",
      "16/16 [==============================] - 0s 6ms/step - loss: 0.1763 - accuracy: 0.9535 - val_loss: 0.8403 - val_accuracy: 0.8220\n",
      "Epoch 30/30\n",
      "16/16 [==============================] - 0s 5ms/step - loss: 0.1681 - accuracy: 0.9541 - val_loss: 0.8482 - val_accuracy: 0.8210\n"
     ]
    },
    {
     "data": {
      "image/png": "[encoded data removed]",
      "text/plain": [
       "<Figure size 640x480 with 1 Axes>"
      ]
     },
     "metadata": {},
     "output_type": "display_data"
    }
   ],
   "source": [
    "from keras import models\n",
    "from keras import layers \n",
    "model = models.Sequential()\n",
    "model.add(layers.Dense(25, activation='relu', input_shape=(10000,)))\n",
    "# model.add(layers.Dense(128, activation='relu'))\n",
    "\n",
    "model.add(layers.Dense(46, activation='softmax'))\n",
    "model.compile(optimizer='rmsprop',\n",
    " loss='categorical_crossentropy',\n",
    " metrics=['accuracy'])\n",
    "\n",
    "history = model.fit(partial_x_train,\n",
    " partial_y_train,\n",
    " epochs=30,\n",
    " batch_size=512,\n",
    " validation_data=(x_val, y_val))\n",
    "\n",
    "import matplotlib.pyplot as plt \n",
    "loss = history.history['loss']\n",
    "val_loss = history.history['val_loss'] \n",
    "epochs = range(1, len(loss) + 1) \n",
    "plt.plot(epochs, loss, 'bo', label='Training loss')\n",
    "plt.plot(epochs, val_loss, 'b', label='Validation loss')\n",
    "plt.title('Training and validation loss')\n",
    "plt.xlabel('Epochs')\n",
    "plt.ylabel('Loss')\n",
    "plt.legend() \n",
    "plt.show()"
   ]
  },
  {
   "cell_type": "code",
   "execution_count": null,
   "id": "996e270e-a8e0-4003-8b36-1cb3e3a191db",
   "metadata": {},
   "outputs": [],
   "source": []
  },
  {
   "cell_type": "code",
   "execution_count": 4,
   "id": "644f67f8-1084-401b-9ae1-5fb07e95ddd5",
   "metadata": {},
   "outputs": [
    {
     "name": "stdout",
     "output_type": "stream",
     "text": [
      "71/71 [==============================] - 0s 977us/step\n"
     ]
    },
    {
     "data": {
      "text/plain": [
       "array([1.44405203e-04, 5.13549858e-05, 1.66756479e-06, 8.85129631e-01,\n",
       "       1.11780256e-01, 8.87460985e-08, 3.49610928e-05, 1.35419396e-05,\n",
       "       2.61020585e-04, 6.65301968e-07, 2.70691567e-06, 7.27383245e-04,\n",
       "       3.93240116e-05, 6.85162968e-06, 1.42534554e-06, 7.78192259e-07,\n",
       "       1.75847468e-04, 1.71413467e-06, 1.83818192e-05, 1.80917850e-04,\n",
       "       3.91809561e-04, 1.14867413e-04, 6.81632798e-07, 1.68612205e-05,\n",
       "       1.51090688e-07, 1.25298611e-05, 1.78644757e-06, 7.18573392e-06,\n",
       "       1.13787257e-06, 3.59642945e-05, 5.54285689e-05, 6.93497304e-06,\n",
       "       1.30278943e-06, 7.64122706e-06, 1.70310559e-05, 2.57329953e-06,\n",
       "       7.03543192e-04, 8.40627945e-06, 1.38544522e-06, 1.85733988e-05,\n",
       "       9.28660995e-07, 1.73636363e-05, 1.14314560e-06, 1.63438813e-06,\n",
       "       4.17821155e-08, 2.26552828e-07], dtype=float32)"
      ]
     },
     "execution_count": 4,
     "metadata": {},
     "output_type": "execute_result"
    }
   ],
   "source": [
    "predictions = model.predict(x_test)\n",
    "predictions[0].shape\n",
    "predictions[0]"
   ]
  }
 ],
 "metadata": {
  "kernelspec": {
   "display_name": "Python 3 (ipykernel)",
   "language": "python",
   "name": "python3"
  },
  "language_info": {
   "codemirror_mode": {
    "name": "ipython",
    "version": 3
   },
   "file_extension": ".py",
   "mimetype": "text/x-python",
   "name": "python",
   "nbconvert_exporter": "python",
   "pygments_lexer": "ipython3",
   "version": "3.9.16"
  }
 },
 "nbformat": 4,
 "nbformat_minor": 5
}
