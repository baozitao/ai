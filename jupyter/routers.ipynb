{
 "cells": [
  {
   "cell_type": "code",
   "execution_count": 1,
   "id": "c39265d1-a4f7-43d8-b28e-223979f86826",
   "metadata": {},
   "outputs": [
    {
     "name": "stderr",
     "output_type": "stream",
     "text": [
      "2023-07-03 01:37:33.338200: I tensorflow/core/util/port.cc:110] oneDNN custom operations are on. You may see slightly different numerical results due to floating-point round-off errors from different computation orders. To turn them off, set the environment variable `TF_ENABLE_ONEDNN_OPTS=0`.\n",
      "2023-07-03 01:37:33.340572: I tensorflow/tsl/cuda/cudart_stub.cc:28] Could not find cuda drivers on your machine, GPU will not be used.\n",
      "2023-07-03 01:37:33.406469: I tensorflow/tsl/cuda/cudart_stub.cc:28] Could not find cuda drivers on your machine, GPU will not be used.\n",
      "2023-07-03 01:37:33.407116: I tensorflow/core/platform/cpu_feature_guard.cc:182] This TensorFlow binary is optimized to use available CPU instructions in performance-critical operations.\n",
      "To enable the following instructions: AVX2 AVX_VNNI FMA, in other operations, rebuild TensorFlow with the appropriate compiler flags.\n",
      "2023-07-03 01:37:34.439084: W tensorflow/compiler/tf2tensorrt/utils/py_utils.cc:38] TF-TRT Warning: Could not find TensorRT\n"
     ]
    }
   ],
   "source": [
    "from keras.datasets import reuters \n",
    "(train_data, train_labels), (test_data, test_labels) = reuters.load_data( num_words=10000)"
   ]
  },
  {
   "cell_type": "code",
   "execution_count": 2,
   "id": "ef7cfd4e-4cf3-41b4-8328-4169ccc07409",
   "metadata": {},
   "outputs": [],
   "source": [
    "import numpy as np \n",
    "def vectorize_sequences(sequences, dimension=10000):\n",
    "     results = np.zeros((len(sequences), dimension))\n",
    "     for i, sequence in enumerate(sequences):\n",
    "         results[i, sequence] = 1.\n",
    "     return results \n",
    "\n",
    "##### 将训练数据向量化\n",
    "x_train = vectorize_sequences(train_data) \n",
    "x_test = vectorize_sequences(test_data) \n",
    "\n",
    "##### one-hot编码\n",
    "from keras.utils.np_utils import to_categorical \n",
    "one_hot_train_labels = to_categorical(train_labels)\n",
    "one_hot_test_labels = to_categorical(test_labels)\n",
    "\n",
    "##### 将训练数据分为输入数据和验证数据\n",
    "x_val = x_train[:1000]\n",
    "partial_x_train = x_train[1000:] \n",
    "y_val = one_hot_train_labels[:1000]\n",
    "partial_y_train = one_hot_train_labels[1000:]"
   ]
  },
  {
   "cell_type": "code",
   "execution_count": 3,
   "id": "60ebf628-8bc1-4204-9a7f-f59f065e01f5",
   "metadata": {},
   "outputs": [
    {
     "name": "stdout",
     "output_type": "stream",
     "text": [
      "Epoch 1/30\n",
      "16/16 [==============================] - 1s 28ms/step - loss: 3.0399 - accuracy: 0.5040 - val_loss: 2.4119 - val_accuracy: 0.5820\n",
      "Epoch 2/30\n",
      "16/16 [==============================] - 0s 9ms/step - loss: 2.0878 - accuracy: 0.6288 - val_loss: 1.8490 - val_accuracy: 0.6360\n",
      "Epoch 3/30\n",
      "16/16 [==============================] - 0s 9ms/step - loss: 1.6330 - accuracy: 0.6830 - val_loss: 1.5545 - val_accuracy: 0.6760\n",
      "Epoch 4/30\n",
      "16/16 [==============================] - 0s 10ms/step - loss: 1.3626 - accuracy: 0.7248 - val_loss: 1.3792 - val_accuracy: 0.7040\n",
      "Epoch 5/30\n",
      "16/16 [==============================] - 0s 10ms/step - loss: 1.1803 - accuracy: 0.7554 - val_loss: 1.2582 - val_accuracy: 0.7300\n",
      "Epoch 6/30\n",
      "16/16 [==============================] - 0s 10ms/step - loss: 1.0449 - accuracy: 0.7833 - val_loss: 1.1795 - val_accuracy: 0.7480\n",
      "Epoch 7/30\n",
      "16/16 [==============================] - 0s 10ms/step - loss: 0.9378 - accuracy: 0.8057 - val_loss: 1.1210 - val_accuracy: 0.7630\n",
      "Epoch 8/30\n",
      "16/16 [==============================] - 0s 10ms/step - loss: 0.8479 - accuracy: 0.8235 - val_loss: 1.0681 - val_accuracy: 0.7790\n",
      "Epoch 9/30\n",
      "16/16 [==============================] - 0s 10ms/step - loss: 0.7711 - accuracy: 0.8404 - val_loss: 1.0299 - val_accuracy: 0.7800\n",
      "Epoch 10/30\n",
      "16/16 [==============================] - 0s 10ms/step - loss: 0.7030 - accuracy: 0.8539 - val_loss: 0.9938 - val_accuracy: 0.7910\n",
      "Epoch 11/30\n",
      "16/16 [==============================] - 0s 10ms/step - loss: 0.6423 - accuracy: 0.8683 - val_loss: 0.9692 - val_accuracy: 0.7990\n",
      "Epoch 12/30\n",
      "16/16 [==============================] - 0s 10ms/step - loss: 0.5869 - accuracy: 0.8801 - val_loss: 0.9419 - val_accuracy: 0.8060\n",
      "Epoch 13/30\n",
      "16/16 [==============================] - 0s 10ms/step - loss: 0.5367 - accuracy: 0.8934 - val_loss: 0.9225 - val_accuracy: 0.8100\n",
      "Epoch 14/30\n",
      "16/16 [==============================] - 0s 10ms/step - loss: 0.4921 - accuracy: 0.9012 - val_loss: 0.9076 - val_accuracy: 0.8110\n",
      "Epoch 15/30\n",
      "16/16 [==============================] - 0s 10ms/step - loss: 0.4518 - accuracy: 0.9068 - val_loss: 0.8926 - val_accuracy: 0.8220\n",
      "Epoch 16/30\n",
      "16/16 [==============================] - 0s 12ms/step - loss: 0.4154 - accuracy: 0.9146 - val_loss: 0.8791 - val_accuracy: 0.8170\n",
      "Epoch 17/30\n",
      "16/16 [==============================] - 0s 11ms/step - loss: 0.3821 - accuracy: 0.9194 - val_loss: 0.8656 - val_accuracy: 0.8220\n",
      "Epoch 18/30\n",
      "16/16 [==============================] - 0s 11ms/step - loss: 0.3521 - accuracy: 0.9245 - val_loss: 0.8586 - val_accuracy: 0.8250\n",
      "Epoch 19/30\n",
      "16/16 [==============================] - 0s 10ms/step - loss: 0.3256 - accuracy: 0.9297 - val_loss: 0.8549 - val_accuracy: 0.8250\n",
      "Epoch 20/30\n",
      "16/16 [==============================] - 0s 10ms/step - loss: 0.3017 - accuracy: 0.9346 - val_loss: 0.8578 - val_accuracy: 0.8240\n",
      "Epoch 21/30\n",
      "16/16 [==============================] - 0s 10ms/step - loss: 0.2786 - accuracy: 0.9391 - val_loss: 0.8536 - val_accuracy: 0.8210\n",
      "Epoch 22/30\n",
      "16/16 [==============================] - 0s 10ms/step - loss: 0.2599 - accuracy: 0.9427 - val_loss: 0.8452 - val_accuracy: 0.8270\n",
      "Epoch 23/30\n",
      "16/16 [==============================] - 0s 10ms/step - loss: 0.2431 - accuracy: 0.9449 - val_loss: 0.8480 - val_accuracy: 0.8220\n",
      "Epoch 24/30\n",
      "16/16 [==============================] - 0s 10ms/step - loss: 0.2275 - accuracy: 0.9463 - val_loss: 0.8461 - val_accuracy: 0.8290\n",
      "Epoch 25/30\n",
      "16/16 [==============================] - 0s 26ms/step - loss: 0.2129 - accuracy: 0.9503 - val_loss: 0.8477 - val_accuracy: 0.8260\n",
      "Epoch 26/30\n",
      "16/16 [==============================] - 0s 9ms/step - loss: 0.2019 - accuracy: 0.9501 - val_loss: 0.8508 - val_accuracy: 0.8260\n",
      "Epoch 27/30\n",
      "16/16 [==============================] - 0s 9ms/step - loss: 0.1900 - accuracy: 0.9501 - val_loss: 0.8468 - val_accuracy: 0.8300\n",
      "Epoch 28/30\n",
      "16/16 [==============================] - 0s 9ms/step - loss: 0.1804 - accuracy: 0.9530 - val_loss: 0.8505 - val_accuracy: 0.8270\n",
      "Epoch 29/30\n",
      "16/16 [==============================] - 0s 10ms/step - loss: 0.1716 - accuracy: 0.9538 - val_loss: 0.8540 - val_accuracy: 0.8290\n",
      "Epoch 30/30\n",
      "16/16 [==============================] - 0s 9ms/step - loss: 0.1631 - accuracy: 0.9540 - val_loss: 0.8652 - val_accuracy: 0.8220\n"
     ]
    },
    {
     "data": {
      "image/png": "[encoded data removed]",
      "text/plain": [
       "<Figure size 640x480 with 1 Axes>"
      ]
     },
     "metadata": {},
     "output_type": "display_data"
    }
   ],
   "source": [
    "from keras import models\n",
    "from keras import layers \n",
    "model = models.Sequential()\n",
    "model.add(layers.Dense(25, activation='relu', input_shape=(10000,)))\n",
    "# model.add(layers.Dense(128, activation='relu'))\n",
    "\n",
    "model.add(layers.Dense(46, activation='softmax'))\n",
    "model.compile(optimizer='rmsprop',\n",
    " loss='categorical_crossentropy',\n",
    " metrics=['accuracy'])\n",
    "\n",
    "history = model.fit(partial_x_train,\n",
    " partial_y_train,\n",
    " epochs=30,\n",
    " batch_size=512,\n",
    " validation_data=(x_val, y_val))\n",
    "\n",
    "import matplotlib.pyplot as plt \n",
    "loss = history.history['loss']\n",
    "val_loss = history.history['val_loss'] \n",
    "epochs = range(1, len(loss) + 1) \n",
    "plt.plot(epochs, loss, 'bo', label='Training loss')\n",
    "plt.plot(epochs, val_loss, 'b', label='Validation loss')\n",
    "plt.title('Training and validation loss')\n",
    "plt.xlabel('Epochs')\n",
    "plt.ylabel('Loss')\n",
    "plt.legend() \n",
    "plt.show()"
   ]
  },
  {
   "cell_type": "code",
   "execution_count": null,
   "id": "996e270e-a8e0-4003-8b36-1cb3e3a191db",
   "metadata": {},
   "outputs": [],
   "source": []
  },
  {
   "cell_type": "code",
   "execution_count": 4,
   "id": "644f67f8-1084-401b-9ae1-5fb07e95ddd5",
   "metadata": {},
   "outputs": [
    {
     "name": "stdout",
     "output_type": "stream",
     "text": [
      "71/71 [==============================] - 0s 1ms/step\n"
     ]
    },
    {
     "data": {
      "text/plain": [
       "array([7.72657877e-05, 2.02576393e-05, 2.34445849e-07, 9.64885235e-01,\n",
       "       3.07709575e-02, 4.58156705e-07, 3.89208708e-07, 5.56028817e-06,\n",
       "       5.33619139e-04, 6.65096422e-07, 4.55523741e-06, 6.41896913e-05,\n",
       "       4.13909329e-05, 2.06025376e-04, 1.21868425e-05, 8.51673303e-06,\n",
       "       4.89301347e-05, 2.02587466e-06, 5.50480900e-06, 4.83273296e-04,\n",
       "       7.14383961e-04, 9.82186903e-05, 1.21147616e-06, 5.01801296e-05,\n",
       "       9.33804495e-06, 1.42186047e-06, 2.39600922e-06, 3.27018370e-06,\n",
       "       2.62716026e-06, 4.90638951e-04, 2.50341964e-05, 4.47311904e-05,\n",
       "       2.81953203e-06, 9.93498998e-06, 5.73642137e-05, 3.36879475e-06,\n",
       "       1.17380994e-04, 2.62641261e-05, 3.69023638e-07, 1.13969320e-03,\n",
       "       1.47760011e-06, 4.81523284e-06, 6.29966371e-06, 6.56594375e-06,\n",
       "       5.89581987e-06, 3.14759336e-06], dtype=float32)"
      ]
     },
     "execution_count": 4,
     "metadata": {},
     "output_type": "execute_result"
    }
   ],
   "source": [
    "predictions = model.predict(x_test)\n",
    "predictions[0].shape\n",
    "predictions[0]"
   ]
  }
 ],
 "metadata": {
  "kernelspec": {
   "display_name": "Python 3 (ipykernel)",
   "language": "python",
   "name": "python3"
  },
  "language_info": {
   "codemirror_mode": {
    "name": "ipython",
    "version": 3
   },
   "file_extension": ".py",
   "mimetype": "text/x-python",
   "name": "python",
   "nbconvert_exporter": "python",
   "pygments_lexer": "ipython3",
   "version": "3.9.16"
  }
 },
 "nbformat": 4,
 "nbformat_minor": 5
}
